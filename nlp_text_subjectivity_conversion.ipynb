{
  "nbformat": 4,
  "nbformat_minor": 0,
  "metadata": {
    "colab": {
      "name": "nlp-text-subjectivity-conversion.ipynb",
      "provenance": [],
      "collapsed_sections": [],
      "toc_visible": true
    },
    "kernelspec": {
      "name": "python3",
      "display_name": "Python 3"
    }
  },
  "cells": [
    {
      "cell_type": "markdown",
      "metadata": {
        "id": "9U1ZtPf4fIYe"
      },
      "source": [
        "#**ML-POWERED OBJECTIFICATION AND SUBJECTIFICATION OF TEXT**\n",
        "Kieran Mendoza, Wang Hengyue"
      ]
    },
    {
      "cell_type": "markdown",
      "metadata": {
        "id": "d5M-I24biNLP"
      },
      "source": [
        "# Introduction\n",
        "Often, the biases and the judgements of journalists get in the way of the facts and the truth. This project aims to first detect whether a piece of text is subjective or objective, then reframe it to eliminate the prejudices and be more factual. \n",
        "\n",
        "This project includes a Supervised model using Naïve Bayes to detect whether the author sentiment is positive or negative. Extending from this, it aims to quantify the author sentiment in the text.\n",
        "\n",
        "However, the hallmark of this project is the development of a model that performs objectivication of the text, and vice versa. We aim to use [this](https://arxiv.org/abs/1809.04556) as a framework to achieve this.\n",
        "\n",
        "**Domain: Media, Literature**\n",
        "\n",
        "**Subject Area: Supervised Learning, Unsupervised Learning, Natural Language Processing**\n",
        "\n",
        "## Objectives\n",
        "* Detection of author stance\n",
        "* Detection of subjective or objective text\n",
        "* Manipulation of text from being subjective to objective and vice-versa.\n",
        "\n",
        "## Target Audience\n",
        "*   Fake news detection agencies - a highly subjective article is likely to contain some fallacious statements\n",
        "*   Media companies - a quick method of turning an otherwise boring, dull chain of facts into a more engaging story\n",
        "*  English teachers - aid for grading essays to determine if the student is writing subjectively or objectively\n",
        "\n",
        "## Target Outcome and Benefits\n",
        "1. Catering to the preference of different readers - some readers prefer the facts presented neatly and clearly while others may want more personal voice\n",
        "2. Formation of an engaging story from a “skeleton” of facts collected, allowing for a “quick story”.\n",
        "\n",
        "\n",
        "\n",
        "\n"
      ]
    },
    {
      "cell_type": "markdown",
      "metadata": {
        "id": "95zm6FKHj_h9"
      },
      "source": [
        "# Data Collection and Data Cleaning\n",
        "We import data from a GitHub repository due to the sheer size of the dataset. The dataset can be found under resources, but can also be found [here](http://www.cs.cornell.edu/people/pabo/movie-review-data/). It contains 2004-2005 Rotten Tomatoes movie review data, as well as iMDB reviews and plot reports."
      ]
    },
    {
      "cell_type": "code",
      "metadata": {
        "id": "IbvYkNQqi8qd",
        "colab": {
          "base_uri": "https://localhost:8080/"
        },
        "outputId": "2a0153ba-9bbb-46ec-8c07-f5a3cf794e78"
      },
      "source": [
        "!git clone https://github.com/Kimame04/nlp-text-subjectivity-conversion.git"
      ],
      "execution_count": 1,
      "outputs": [
        {
          "output_type": "stream",
          "text": [
            "Cloning into 'nlp-text-subjectivity-conversion'...\n",
            "remote: Enumerating objects: 1772, done.\u001b[K\n",
            "remote: Counting objects: 100% (1772/1772), done.\u001b[K\n",
            "remote: Compressing objects: 100% (141/141), done.\u001b[K\n",
            "remote: Total 1772 (delta 1652), reused 1709 (delta 1626), pack-reused 0\u001b[K\n",
            "Receiving objects: 100% (1772/1772), 11.84 MiB | 8.86 MiB/s, done.\n",
            "Resolving deltas: 100% (1652/1652), done.\n"
          ],
          "name": "stdout"
        }
      ]
    },
    {
      "cell_type": "code",
      "metadata": {
        "id": "DqJbiuZHwbWK"
      },
      "source": [
        "#imports\n",
        "import os\n",
        "import pandas as pd\n",
        "import numpy as np\n",
        "import matplotlib.pyplot as plt\n",
        "import time\n",
        "import nltk\n",
        "from nltk.corpus import stopwords\n",
        "from nltk.corpus import words\n",
        "from nltk.corpus import wordnet\n",
        "from nltk.stem import WordNetLemmatizer\n",
        "from sklearn.feature_extraction.text import TfidfVectorizer\n",
        "from sklearn.model_selection import train_test_split\n",
        "from sklearn.feature_selection import chi2\n",
        "from sklearn.neighbors import KNeighborsClassifier\n",
        "from sklearn.model_selection import GridSearchCV\n",
        "from sklearn.naive_bayes import MultinomialNB\n",
        "from sklearn.pipeline import make_pipeline\n",
        "from sklearn.metrics import confusion_matrix, accuracy_score\n",
        "import seaborn as sns\n",
        "import re\n",
        "import pickle\n",
        "import random"
      ],
      "execution_count": 2,
      "outputs": []
    },
    {
      "cell_type": "code",
      "metadata": {
        "colab": {
          "base_uri": "https://localhost:8080/"
        },
        "id": "3faa93zyVkOo",
        "outputId": "72e0e64c-2ba8-480f-e0dd-ca97cfcbc23d"
      },
      "source": [
        "nltk.download('punkt')\n",
        "nltk.download('wordnet')\n",
        "nltk.download('stopwords')\n",
        "nltk.download('words')"
      ],
      "execution_count": 3,
      "outputs": [
        {
          "output_type": "stream",
          "text": [
            "[nltk_data] Downloading package punkt to /root/nltk_data...\n",
            "[nltk_data]   Unzipping tokenizers/punkt.zip.\n",
            "[nltk_data] Downloading package wordnet to /root/nltk_data...\n",
            "[nltk_data]   Unzipping corpora/wordnet.zip.\n",
            "[nltk_data] Downloading package stopwords to /root/nltk_data...\n",
            "[nltk_data]   Unzipping corpora/stopwords.zip.\n",
            "[nltk_data] Downloading package words to /root/nltk_data...\n",
            "[nltk_data]   Unzipping corpora/words.zip.\n"
          ],
          "name": "stdout"
        },
        {
          "output_type": "execute_result",
          "data": {
            "text/plain": [
              "True"
            ]
          },
          "metadata": {
            "tags": []
          },
          "execution_count": 3
        }
      ]
    },
    {
      "cell_type": "markdown",
      "metadata": {
        "id": "lvP61zKF3Ebv"
      },
      "source": [
        "Annoyingly, plenty of the data has custom file extensions, which means that they must first be converted to their original file extensions (.txt) before any operations can be conducted on it.\n",
        "\n",
        "In the end, I combined the reviews of each reviewer into a dataframe, which is then combined into a 'complete collection' dataset, for further analysis.\n",
        "\n",
        "Each dataframe has the following attributes:\n",
        "\n",
        "- Review content\n",
        "- Rating \n",
        "- ID \n",
        "- Three-class label\n",
        "- Four-class label"
      ]
    },
    {
      "cell_type": "code",
      "metadata": {
        "colab": {
          "base_uri": "https://localhost:8080/",
          "height": 479
        },
        "id": "oHvOsl61r6gL",
        "outputId": "9cec5c31-d20c-4415-eb49-0ce16d556264"
      },
      "source": [
        "path = '/content/nlp-text-subjectivity-conversion/data' #if running on Google Colab\n",
        "# path = 'nlp-text-subjectivity-conversion/data' if running on jupyter-notebook\n",
        "\n",
        "def readTxt(fileName):\n",
        "  fileObj = open(fileName,'r',encoding=\"windows-1252\")\n",
        "  words = fileObj.read().splitlines()\n",
        "  fileObj.close()\n",
        "  return words\n",
        "\n",
        "def read_files(path):\n",
        "  all_series = []\n",
        "  for folder in os.listdir(path):\n",
        "    subpath = path+'/'+folder\n",
        "    if os.path.isdir(subpath):\n",
        "      for filename in os.listdir(subpath):\n",
        "        filepath = os.path.join(subpath,filename)\n",
        "        if (filepath.count('.txt')<1):\n",
        "          new_filepath = filepath+'.txt'\n",
        "          os.rename(filepath,new_filepath)\n",
        "          series = pd.Series(readTxt(new_filepath))\n",
        "          series.name = filename\n",
        "          all_series.append(series)\n",
        "  df = pd.concat(all_series,axis=1)\n",
        "  return df\n",
        "\n",
        "df = read_files(path)\n",
        "df.head()"
      ],
      "execution_count": 4,
      "outputs": [
        {
          "output_type": "execute_result",
          "data": {
            "text/html": [
              "<div>\n",
              "<style scoped>\n",
              "    .dataframe tbody tr th:only-of-type {\n",
              "        vertical-align: middle;\n",
              "    }\n",
              "\n",
              "    .dataframe tbody tr th {\n",
              "        vertical-align: top;\n",
              "    }\n",
              "\n",
              "    .dataframe thead th {\n",
              "        text-align: right;\n",
              "    }\n",
              "</style>\n",
              "<table border=\"1\" class=\"dataframe\">\n",
              "  <thead>\n",
              "    <tr style=\"text-align: right;\">\n",
              "      <th></th>\n",
              "      <th>rating.James+Berardinelli</th>\n",
              "      <th>subj.James+Berardinelli</th>\n",
              "      <th>id.James+Berardinelli</th>\n",
              "      <th>label.3class.James+Berardinelli</th>\n",
              "      <th>label.4class.James+Berardinelli</th>\n",
              "      <th>rt-polarity.neg</th>\n",
              "      <th>rt-polarity.pos</th>\n",
              "      <th>subjdata.README.1.0</th>\n",
              "      <th>plot.tok.gt9.5000</th>\n",
              "      <th>quote.tok.gt9.5000</th>\n",
              "      <th>rating.Steve+Rhodes</th>\n",
              "      <th>id.Steve+Rhodes</th>\n",
              "      <th>subj.Steve+Rhodes</th>\n",
              "      <th>label.4class.Steve+Rhodes</th>\n",
              "      <th>label.3class.Steve+Rhodes</th>\n",
              "      <th>rating.Dennis+Schwartz</th>\n",
              "      <th>label.4class.Dennis+Schwartz</th>\n",
              "      <th>id.Dennis+Schwartz</th>\n",
              "      <th>subj.Dennis+Schwartz</th>\n",
              "      <th>label.3class.Dennis+Schwartz</th>\n",
              "      <th>id.Scott+Renshaw</th>\n",
              "      <th>subj.Scott+Renshaw</th>\n",
              "      <th>label.4class.Scott+Renshaw</th>\n",
              "      <th>rating.Scott+Renshaw</th>\n",
              "      <th>label.3class.Scott+Renshaw</th>\n",
              "    </tr>\n",
              "  </thead>\n",
              "  <tbody>\n",
              "    <tr>\n",
              "      <th>0</th>\n",
              "      <td>0.05</td>\n",
              "      <td>i didn't expect ghost in the machine to be thi...</td>\n",
              "      <td>2321</td>\n",
              "      <td>0</td>\n",
              "      <td>0</td>\n",
              "      <td>simplistic , silly and tedious .</td>\n",
              "      <td>the rock is destined to be the 21st century's ...</td>\n",
              "      <td></td>\n",
              "      <td>the movie begins in the past where a young boy...</td>\n",
              "      <td>smart and alert , thirteen conversations about...</td>\n",
              "      <td>0.1</td>\n",
              "      <td>11790</td>\n",
              "      <td>this bit of lame physical humor is typical of ...</td>\n",
              "      <td>0</td>\n",
              "      <td>0</td>\n",
              "      <td>0.1</td>\n",
              "      <td>0</td>\n",
              "      <td>29420</td>\n",
              "      <td>in my opinion , a movie reviewer's most import...</td>\n",
              "      <td>0</td>\n",
              "      <td>11961</td>\n",
              "      <td>i'm guessing -- and from the available evidenc...</td>\n",
              "      <td>0</td>\n",
              "      <td>0</td>\n",
              "      <td>0</td>\n",
              "    </tr>\n",
              "    <tr>\n",
              "      <th>1</th>\n",
              "      <td>0.05</td>\n",
              "      <td>admittedly , with a title like the mangler , y...</td>\n",
              "      <td>3337</td>\n",
              "      <td>0</td>\n",
              "      <td>0</td>\n",
              "      <td>it's so laddish and juvenile , only teenage bo...</td>\n",
              "      <td>the gorgeously elaborate continuation of \" the...</td>\n",
              "      <td>=======</td>\n",
              "      <td>emerging from the human psyche and showing cha...</td>\n",
              "      <td>color , musical bounce and warm seas lapping o...</td>\n",
              "      <td>0.1</td>\n",
              "      <td>17628</td>\n",
              "      <td>some comedies are not funny no matter how hard...</td>\n",
              "      <td>0</td>\n",
              "      <td>0</td>\n",
              "      <td>0.2</td>\n",
              "      <td>0</td>\n",
              "      <td>17219</td>\n",
              "      <td>you can watch this movie , that is based on a ...</td>\n",
              "      <td>0</td>\n",
              "      <td>13915</td>\n",
              "      <td>there's bad buzz , and then there's the the ba...</td>\n",
              "      <td>0</td>\n",
              "      <td>0</td>\n",
              "      <td>0</td>\n",
              "    </tr>\n",
              "    <tr>\n",
              "      <th>2</th>\n",
              "      <td>0.05</td>\n",
              "      <td>cast : christopher lambert , natasha henstridg...</td>\n",
              "      <td>6511</td>\n",
              "      <td>0</td>\n",
              "      <td>0</td>\n",
              "      <td>exploitative and largely devoid of the depth o...</td>\n",
              "      <td>effective but too-tepid biopic</td>\n",
              "      <td></td>\n",
              "      <td>spurning her mother's insistence that she get ...</td>\n",
              "      <td>it is not a mass-market entertainment but an u...</td>\n",
              "      <td>0.1</td>\n",
              "      <td>18971</td>\n",
              "      <td>you'll check your watch frequently waiting for...</td>\n",
              "      <td>0</td>\n",
              "      <td>0</td>\n",
              "      <td>0.2</td>\n",
              "      <td>0</td>\n",
              "      <td>18406</td>\n",
              "      <td>this is asking a lot to believe , and though i...</td>\n",
              "      <td>0</td>\n",
              "      <td>2790</td>\n",
              "      <td>director : richard rush . director richard rus...</td>\n",
              "      <td>0</td>\n",
              "      <td>0</td>\n",
              "      <td>0</td>\n",
              "    </tr>\n",
              "    <tr>\n",
              "      <th>3</th>\n",
              "      <td>0.05</td>\n",
              "      <td>inevitably , someone is going to ask me why i ...</td>\n",
              "      <td>6912</td>\n",
              "      <td>0</td>\n",
              "      <td>0</td>\n",
              "      <td>[garbus] discards the potential for pathologic...</td>\n",
              "      <td>if you sometimes like to go to the movies to h...</td>\n",
              "      <td>Introduction</td>\n",
              "      <td>amitabh can't believe the board of directors a...</td>\n",
              "      <td>a light-hearted french film about the spiritua...</td>\n",
              "      <td>0.1</td>\n",
              "      <td>28767</td>\n",
              "      <td>freddy got fingered , written and directed by ...</td>\n",
              "      <td>0</td>\n",
              "      <td>0</td>\n",
              "      <td>0.2</td>\n",
              "      <td>0</td>\n",
              "      <td>18648</td>\n",
              "      <td>no heroes and no story are the main attributes...</td>\n",
              "      <td>0</td>\n",
              "      <td>3285</td>\n",
              "      <td>screenplay : johnny brennan &amp; kamal ahmed and ...</td>\n",
              "      <td>0</td>\n",
              "      <td>0</td>\n",
              "      <td>0</td>\n",
              "    </tr>\n",
              "    <tr>\n",
              "      <th>4</th>\n",
              "      <td>0.09</td>\n",
              "      <td>ernest : the one-joke concept that refuses to ...</td>\n",
              "      <td>2240</td>\n",
              "      <td>0</td>\n",
              "      <td>0</td>\n",
              "      <td>a visually flashy but narratively opaque and e...</td>\n",
              "      <td>emerges as something rare , an issue movie tha...</td>\n",
              "      <td></td>\n",
              "      <td>she , among others excentricities , talks to a...</td>\n",
              "      <td>my wife is an actress has its moments in looki...</td>\n",
              "      <td>0.1</td>\n",
              "      <td>3579</td>\n",
              "      <td>it is a mess of a movie . if you are so advent...</td>\n",
              "      <td>0</td>\n",
              "      <td>0</td>\n",
              "      <td>0.2</td>\n",
              "      <td>0</td>\n",
              "      <td>20021</td>\n",
              "      <td>this is not an art movie , yet i saw it an art...</td>\n",
              "      <td>0</td>\n",
              "      <td>10264</td>\n",
              "      <td>screenplay : tim burns &amp; tom stern and anthony...</td>\n",
              "      <td>0</td>\n",
              "      <td>0.1</td>\n",
              "      <td>0</td>\n",
              "    </tr>\n",
              "  </tbody>\n",
              "</table>\n",
              "</div>"
            ],
            "text/plain": [
              "  rating.James+Berardinelli  ... label.3class.Scott+Renshaw\n",
              "0                      0.05  ...                          0\n",
              "1                      0.05  ...                          0\n",
              "2                      0.05  ...                          0\n",
              "3                      0.05  ...                          0\n",
              "4                      0.09  ...                          0\n",
              "\n",
              "[5 rows x 25 columns]"
            ]
          },
          "metadata": {
            "tags": []
          },
          "execution_count": 4
        }
      ]
    },
    {
      "cell_type": "markdown",
      "metadata": {
        "id": "jFVU14wd5IqV"
      },
      "source": [
        "# Objectivity Detection\n",
        "\n",
        "We explore **two** methods to detect objectivity, and then decide which method is more effective. Both use the same Supervised Learning methods and use the Naïve Bayes algorithm. But the difference is the approach taken with the dataset.\n",
        "\n",
        "The first is to distinguish sentences with a 'positive' sentiment from a 'negative' one. If the algorithm is unable to firmly decide between the two, we assume the text to be objective. \n",
        "\n",
        "The second (and more conventional and direct method) is to actually train the data on subjective and objective text, and predict objectivity."
      ]
    },
    {
      "cell_type": "code",
      "metadata": {
        "id": "EeViDrLa0WdR"
      },
      "source": [
        "def clean_dataframe(df):\n",
        "  df = df.dropna()\n",
        "  df = pd.concat((df.iloc[:,0],df.iloc[:,1]),axis=0).reset_index(drop=True)\n",
        "  punctuation_signs = list(\"?.:;,!\")\n",
        "  for punct_sign in punctuation_signs:\n",
        "      df = df.str.replace(punct_sign, '')\n",
        "\n",
        "  lemmatized_text_list = []\n",
        "\n",
        "  wordnet_lemmatizer = WordNetLemmatizer()\n",
        "\n",
        "  for row in range(0, len(df)):\n",
        "    lemmatized_list = []\n",
        "    text = df.loc[row]\n",
        "    text_words = text.split(\" \")\n",
        "    for word in text_words:\n",
        "        lemmatized_list.append(wordnet_lemmatizer.lemmatize(word, pos=\"v\"))\n",
        "    lemmatized_text = \" \".join(lemmatized_list)\n",
        "    lemmatized_text_list.append(lemmatized_text)\n",
        "\n",
        "  df = pd.Series(lemmatized_text_list)\n",
        "\n",
        "  df = df.str.replace(\"'s\",\"\")\n",
        "  stop_words = list(stopwords.words('english'))\n",
        "\n",
        "  for stop_word in stop_words:\n",
        "      regex_stopword = r\"\\b\" + stop_word + r\"\\b\"\n",
        "      df = df.str.replace(regex_stopword, '')\n",
        "  df = pd.DataFrame(df,columns=['content'])\n",
        "  return df\n",
        "\n",
        "def train_predict(series_x,series_y):\n",
        "  x_train, x_test, y_train, y_test = train_test_split(series_x, \n",
        "                                                      series_y, \n",
        "                                                      test_size=0.3)\n",
        "  model = make_pipeline(TfidfVectorizer(), MultinomialNB())\n",
        "  model.fit(x_train, y_train)\n",
        "  predicted_categories = model.predict(x_test)\n",
        "  mat = confusion_matrix(y_test, predicted_categories)\n",
        "  sns.heatmap(mat.T,annot=True, fmt = \"d\")\n",
        "  plt.xlabel(\"true labels\")\n",
        "  plt.ylabel(\"predicted label\")\n",
        "  plt.show()\n",
        "  return model, accuracy_score(y_test, predicted_categories), x_train, x_test, y_train, y_test\n",
        "\n",
        "def convert_txt(series,name):\n",
        "  series.to_csv(name + '.txt', sep='\\n', index=False)\n",
        "\n",
        "def write_to_txt(x_train, x_test, y_train, y_test, name1, name2, name3, name4, name5, name6, df):\n",
        "  train_df = pd.concat((x_train,y_train),axis=1)\n",
        "  neg_train = train_df.loc[train_df.code==0].squeeze().iloc[:,0]\n",
        "  pos_train = train_df.loc[train_df.code==1].squeeze().iloc[:,0]\n",
        "  convert_txt(neg_train,name1)\n",
        "  convert_txt(pos_train,name2)\n",
        "\n",
        "  test_df = pd.concat((x_test,y_test),axis=1)\n",
        "  neg_test = test_df.loc[test_df.code==0].iloc[:,0]\n",
        "  pos_test = test_df.loc[test_df.code==1].iloc[:,0]\n",
        "  convert_txt(neg_test,name3)\n",
        "  convert_txt(pos_test,name4)\n",
        "\n",
        "  convert_txt(df.loc[df.code==0].iloc[:,0],name5)\n",
        "  convert_txt(df.loc[df.code==1].iloc[:,0],name6)"
      ],
      "execution_count": 5,
      "outputs": []
    },
    {
      "cell_type": "markdown",
      "metadata": {
        "id": "2FU8Z5VEsN8_"
      },
      "source": [
        "## Approach 1 - Objectiveness detection via sentiment\n",
        "\n",
        "Now, we format the positive and negative reviews. That is, we lemmatize the text, remove the punctuation signs and remove the stop words in the dataset. This prevents instances where the same root word is actually counted differently.\n",
        "\n",
        "We quantify the author stance by mapping the stances. Negative stance is labeled 0, while positive stance is labeled 1."
      ]
    },
    {
      "cell_type": "code",
      "metadata": {
        "colab": {
          "base_uri": "https://localhost:8080/",
          "height": 204
        },
        "id": "xR60FUqJ5ua7",
        "outputId": "d42e881f-e612-4b9d-e945-a0fdf75662b8"
      },
      "source": [
        "polarityDf = df[['rt-polarity.neg','rt-polarity.pos']].copy()\n",
        "\n",
        "polarityDf = clean_dataframe(polarityDf)\n",
        "polarityDf['stance'] = 'negative'\n",
        "polarityDf['stance'][5331:] = 'positive'\n",
        "\n",
        "stance_codes = {\n",
        "    'negative': 0,\n",
        "    'positive': 1,\n",
        "}\n",
        "\n",
        "polarityDf['code'] = polarityDf['stance']\n",
        "polarityDf = polarityDf.replace({'code':stance_codes})\n",
        "polarityDf.head()"
      ],
      "execution_count": 6,
      "outputs": [
        {
          "output_type": "execute_result",
          "data": {
            "text/html": [
              "<div>\n",
              "<style scoped>\n",
              "    .dataframe tbody tr th:only-of-type {\n",
              "        vertical-align: middle;\n",
              "    }\n",
              "\n",
              "    .dataframe tbody tr th {\n",
              "        vertical-align: top;\n",
              "    }\n",
              "\n",
              "    .dataframe thead th {\n",
              "        text-align: right;\n",
              "    }\n",
              "</style>\n",
              "<table border=\"1\" class=\"dataframe\">\n",
              "  <thead>\n",
              "    <tr style=\"text-align: right;\">\n",
              "      <th></th>\n",
              "      <th>content</th>\n",
              "      <th>stance</th>\n",
              "      <th>code</th>\n",
              "    </tr>\n",
              "  </thead>\n",
              "  <tbody>\n",
              "    <tr>\n",
              "      <th>0</th>\n",
              "      <td>simplistic  silly  tedious</td>\n",
              "      <td>negative</td>\n",
              "      <td>0</td>\n",
              "    </tr>\n",
              "    <tr>\n",
              "      <th>1</th>\n",
              "      <td>laddish  juvenile   teenage boys could possi...</td>\n",
              "      <td>negative</td>\n",
              "      <td>0</td>\n",
              "    </tr>\n",
              "    <tr>\n",
              "      <th>2</th>\n",
              "      <td>exploitative  largely devoid   depth  sophisti...</td>\n",
              "      <td>negative</td>\n",
              "      <td>0</td>\n",
              "    </tr>\n",
              "    <tr>\n",
              "      <th>3</th>\n",
              "      <td>[garbus] discard  potential  pathological stud...</td>\n",
              "      <td>negative</td>\n",
              "      <td>0</td>\n",
              "    </tr>\n",
              "    <tr>\n",
              "      <th>4</th>\n",
              "      <td>visually flashy  narratively opaque  emotiona...</td>\n",
              "      <td>negative</td>\n",
              "      <td>0</td>\n",
              "    </tr>\n",
              "  </tbody>\n",
              "</table>\n",
              "</div>"
            ],
            "text/plain": [
              "                                             content    stance  code\n",
              "0                       simplistic  silly  tedious    negative     0\n",
              "1    laddish  juvenile   teenage boys could possi...  negative     0\n",
              "2  exploitative  largely devoid   depth  sophisti...  negative     0\n",
              "3  [garbus] discard  potential  pathological stud...  negative     0\n",
              "4   visually flashy  narratively opaque  emotiona...  negative     0"
            ]
          },
          "metadata": {
            "tags": []
          },
          "execution_count": 6
        }
      ]
    },
    {
      "cell_type": "markdown",
      "metadata": {
        "id": "3SLRSUav5hWx"
      },
      "source": [
        "We then train the dataset with the content and the stance codes. We use a multinomial Naïve Bayes algorithm to train it, and we plot a confusion matrix showing the performance of our model. "
      ]
    },
    {
      "cell_type": "code",
      "metadata": {
        "colab": {
          "base_uri": "https://localhost:8080/",
          "height": 296
        },
        "id": "En4y7-uDN9kj",
        "outputId": "194238d2-9c94-4240-cc6f-c1a123d15bf9"
      },
      "source": [
        "result = train_predict(polarityDf['content'],polarityDf['code'])\n",
        "model = result[0]\n",
        "write_to_txt(result[2],result[3],result[4],result[5],'train_neg_content','train_pos_content',\n",
        "             'test_neg_code','test_pos_code','all_neg','all_pos',polarityDf)\n",
        "result[1]"
      ],
      "execution_count": 7,
      "outputs": [
        {
          "output_type": "display_data",
          "data": {
            "image/png": "[encoded data removed]",
            "text/plain": [
              "<Figure size 432x288 with 2 Axes>"
            ]
          },
          "metadata": {
            "tags": [],
            "needs_background": "light"
          }
        },
        {
          "output_type": "execute_result",
          "data": {
            "text/plain": [
              "0.7702407002188184"
            ]
          },
          "metadata": {
            "tags": []
          },
          "execution_count": 7
        }
      ]
    },
    {
      "cell_type": "markdown",
      "metadata": {
        "id": "r3LpeFRJ6PpW"
      },
      "source": [
        "Here is a sample prediction of a positive sentiment. What is returned is the probability of the text having a negative stance, or having a positive stance."
      ]
    },
    {
      "cell_type": "code",
      "metadata": {
        "colab": {
          "base_uri": "https://localhost:8080/"
        },
        "id": "gM7Dg9ctUlZb",
        "outputId": "651f71b3-105d-4878-aa4e-3a826214bfd3"
      },
      "source": [
        "pos = model.predict_proba(['engaging and fun, amogus is the perfect game for all!'])\n",
        "neg = model.predict_proba(['this game is just unplayable. it\\'s ugly, obsolete and completely unoriginal'])\n",
        "pos,neg"
      ],
      "execution_count": 8,
      "outputs": [
        {
          "output_type": "execute_result",
          "data": {
            "text/plain": [
              "(array([[0.2443404, 0.7556596]]), array([[0.77622993, 0.22377007]]))"
            ]
          },
          "metadata": {
            "tags": []
          },
          "execution_count": 8
        }
      ]
    },
    {
      "cell_type": "markdown",
      "metadata": {
        "id": "j54yAWdN6upP"
      },
      "source": [
        "As seen in the below examples, more objective statements have more balanced scores, and can be used as a distinguishing measure."
      ]
    },
    {
      "cell_type": "code",
      "metadata": {
        "colab": {
          "base_uri": "https://localhost:8080/"
        },
        "id": "HpukXreU7i2l",
        "outputId": "b7d46905-bd81-416b-9b0f-0b5ddd61f1e9"
      },
      "source": [
        "obj_pos = model.predict_proba(['the game has been awarded the editor\\'s choice award'])\n",
        "obj_neg = model.predict_proba(['people have complained that the game is not up to par'])\n",
        "obj_pos, obj_neg"
      ],
      "execution_count": 9,
      "outputs": [
        {
          "output_type": "execute_result",
          "data": {
            "text/plain": [
              "(array([[0.40510711, 0.59489289]]), array([[0.59806597, 0.40193403]]))"
            ]
          },
          "metadata": {
            "tags": []
          },
          "execution_count": 9
        }
      ]
    },
    {
      "cell_type": "markdown",
      "metadata": {
        "id": "-7mcSekjIBzE"
      },
      "source": [
        "## Approach 2 - Direct objectiveness detection\n",
        "Our second approach is to use subjective and objective statements, and compare the accuracy of the two approaches. The plot sumamries are objective, while the quotes weres subjective. In the original dataset, there are 5000 of each type of data.\n",
        "\n",
        "Objective is labeled 0, while subjective is labeled 1."
      ]
    },
    {
      "cell_type": "code",
      "metadata": {
        "colab": {
          "base_uri": "https://localhost:8080/",
          "height": 204
        },
        "id": "oq6CWiYtIQVK",
        "outputId": "1c6b3b37-d6f8-437d-8610-b4a6f4cbee32"
      },
      "source": [
        "subjectivityDf = df[['plot.tok.gt9.5000','quote.tok.gt9.5000']].copy()\n",
        "subjectivityDf = clean_dataframe(subjectivityDf)\n",
        "subjectivityDf['voice'] = 'subjective'\n",
        "subjectivityDf.iloc[:5000,1] = 'objective'\n",
        "voice_codes = {\n",
        "    'subjective': 0,\n",
        "    'objective': 1,\n",
        "}\n",
        "\n",
        "subjectivityDf['code'] = subjectivityDf['voice']\n",
        "subjectivityDf = subjectivityDf.replace({'code':voice_codes})\n",
        "subjectivityDf.head()"
      ],
      "execution_count": 10,
      "outputs": [
        {
          "output_type": "execute_result",
          "data": {
            "text/html": [
              "<div>\n",
              "<style scoped>\n",
              "    .dataframe tbody tr th:only-of-type {\n",
              "        vertical-align: middle;\n",
              "    }\n",
              "\n",
              "    .dataframe tbody tr th {\n",
              "        vertical-align: top;\n",
              "    }\n",
              "\n",
              "    .dataframe thead th {\n",
              "        text-align: right;\n",
              "    }\n",
              "</style>\n",
              "<table border=\"1\" class=\"dataframe\">\n",
              "  <thead>\n",
              "    <tr style=\"text-align: right;\">\n",
              "      <th></th>\n",
              "      <th>content</th>\n",
              "      <th>voice</th>\n",
              "      <th>code</th>\n",
              "    </tr>\n",
              "  </thead>\n",
              "  <tbody>\n",
              "    <tr>\n",
              "      <th>0</th>\n",
              "      <td>movie begin   past   young boy name sam attem...</td>\n",
              "      <td>objective</td>\n",
              "      <td>1</td>\n",
              "    </tr>\n",
              "    <tr>\n",
              "      <th>1</th>\n",
              "      <td>emerge   human psyche  show characteristics  a...</td>\n",
              "      <td>objective</td>\n",
              "      <td>1</td>\n",
              "    </tr>\n",
              "    <tr>\n",
              "      <th>2</th>\n",
              "      <td>spurn  mother insistence   get    life  mary  ...</td>\n",
              "      <td>objective</td>\n",
              "      <td>1</td>\n",
              "    </tr>\n",
              "    <tr>\n",
              "      <th>3</th>\n",
              "      <td>amitabh ' believe  board  directors   mind  fi...</td>\n",
              "      <td>objective</td>\n",
              "      <td>1</td>\n",
              "    </tr>\n",
              "    <tr>\n",
              "      <th>4</th>\n",
              "      <td>among others excentricities  talk   small ro...</td>\n",
              "      <td>objective</td>\n",
              "      <td>1</td>\n",
              "    </tr>\n",
              "  </tbody>\n",
              "</table>\n",
              "</div>"
            ],
            "text/plain": [
              "                                             content      voice  code\n",
              "0   movie begin   past   young boy name sam attem...  objective     1\n",
              "1  emerge   human psyche  show characteristics  a...  objective     1\n",
              "2  spurn  mother insistence   get    life  mary  ...  objective     1\n",
              "3  amitabh ' believe  board  directors   mind  fi...  objective     1\n",
              "4    among others excentricities  talk   small ro...  objective     1"
            ]
          },
          "metadata": {
            "tags": []
          },
          "execution_count": 10
        }
      ]
    },
    {
      "cell_type": "code",
      "metadata": {
        "colab": {
          "base_uri": "https://localhost:8080/",
          "height": 296
        },
        "id": "_JSFCtWtcVbi",
        "outputId": "986ae6fe-1e21-477f-f39a-f8bd0d432b8b"
      },
      "source": [
        "result = train_predict(subjectivityDf['content'],subjectivityDf['code'])\n",
        "model_direct = result[0]\n",
        "write_to_txt(result[2],result[3],result[4],result[5],'train_sub_content','train_obj_content',\n",
        "             'test_sub_code','test_obj_code','all_sub','all_obj',subjectivityDf)\n",
        "result[1]"
      ],
      "execution_count": 11,
      "outputs": [
        {
          "output_type": "display_data",
          "data": {
            "image/png": "[encoded data removed]",
            "text/plain": [
              "<Figure size 432x288 with 2 Axes>"
            ]
          },
          "metadata": {
            "tags": [],
            "needs_background": "light"
          }
        },
        {
          "output_type": "execute_result",
          "data": {
            "text/plain": [
              "0.909"
            ]
          },
          "metadata": {
            "tags": []
          },
          "execution_count": 11
        }
      ]
    },
    {
      "cell_type": "code",
      "metadata": {
        "colab": {
          "base_uri": "https://localhost:8080/"
        },
        "id": "EYMGmpQqdDWn",
        "outputId": "588eb4f4-7692-4834-d190-bfd637061f60"
      },
      "source": [
        "pos = model_direct.predict_proba(['engaging and fun, amogus is the perfect game for all!'])\n",
        "neg = model_direct.predict_proba(['this game is just unplayable. it\\'s ugly, obsolete and completely unoriginal'])\n",
        "pos,neg"
      ],
      "execution_count": 12,
      "outputs": [
        {
          "output_type": "execute_result",
          "data": {
            "text/plain": [
              "(array([[0.64980673, 0.35019327]]), array([[0.74653838, 0.25346162]]))"
            ]
          },
          "metadata": {
            "tags": []
          },
          "execution_count": 12
        }
      ]
    },
    {
      "cell_type": "code",
      "metadata": {
        "colab": {
          "base_uri": "https://localhost:8080/"
        },
        "id": "ULt8C8pJdFba",
        "outputId": "1fbbda3b-85ef-4dce-d724-b4e08ad08eea"
      },
      "source": [
        "obj_pos = model_direct.predict_proba(['the game has been awarded the editor\\'s choice award'])\n",
        "obj_neg = model_direct.predict_proba(['people have complained that the game is not up to par'])\n",
        "obj_pos, obj_neg"
      ],
      "execution_count": 13,
      "outputs": [
        {
          "output_type": "execute_result",
          "data": {
            "text/plain": [
              "(array([[0.34098623, 0.65901377]]), array([[0.5448116, 0.4551884]]))"
            ]
          },
          "metadata": {
            "tags": []
          },
          "execution_count": 13
        }
      ]
    },
    {
      "cell_type": "markdown",
      "metadata": {
        "id": "ZtjFmerhMKvX"
      },
      "source": [
        "For easy retrieval of data in a short amount of time for the UI, we use `pickle` to store and load the data. Here, we save the data as a .sav file."
      ]
    },
    {
      "cell_type": "code",
      "metadata": {
        "id": "M-T2KLgVMYMY"
      },
      "source": [
        "filename = 'objectivity-detection-sentiment.sav'\n",
        "pickle.dump(model, open(filename, 'wb'))\n",
        "\n",
        "filename2 = 'objectivity-detection-direct.sav'\n",
        "pickle.dump(model_direct, open(filename2, 'wb'))"
      ],
      "execution_count": 14,
      "outputs": []
    },
    {
      "cell_type": "markdown",
      "metadata": {
        "id": "r2rlHHlqMw1H"
      },
      "source": [
        "The code below retrieves the model from the .sav file."
      ]
    },
    {
      "cell_type": "code",
      "metadata": {
        "id": "ACty3iiDM2Rx"
      },
      "source": [
        "retrieved_model = pickle.load(open(filename,'rb'))\n",
        "\n",
        "retrieved_model_direct = pickle.load(open(filename2,'rb'))\n",
        "\n",
        "# use retrieved_model.predict(x_test) to get the absolute classification results\n",
        "# use retrieved model.predict_proba(x_test) to get the probability of the classification result"
      ],
      "execution_count": 15,
      "outputs": []
    },
    {
      "cell_type": "markdown",
      "metadata": {
        "id": "zplP-OKzrCiA"
      },
      "source": [
        "# Objectification and Subjecification: The Naïve Way\n",
        "This approach simply takes the most subjective/objective synonym of the word and plugs it into the sentence. Obviously this would lead to severe amount of sentence incoherence and content changes, since the system is unable to understand the 'context'."
      ]
    },
    {
      "cell_type": "code",
      "metadata": {
        "id": "VuY8WDJ9-hdE"
      },
      "source": [
        "word_list = words.words()\n",
        "scores = []\n",
        "samples = random.sample(word_list,5000)\n",
        "for word in samples:\n",
        "  score = model_direct.predict_proba([word])[0][0]\n",
        "  scores.append((score,word))\n",
        "scores.sort(reverse=True)"
      ],
      "execution_count": 16,
      "outputs": []
    },
    {
      "cell_type": "code",
      "metadata": {
        "colab": {
          "base_uri": "https://localhost:8080/"
        },
        "id": "yv2-guzIA43G",
        "outputId": "9299223c-e088-4b84-d3c2-8c536950f9d9"
      },
      "source": [
        "scores[-10:]  "
      ],
      "execution_count": 17,
      "outputs": [
        {
          "output_type": "execute_result",
          "data": {
            "text/plain": [
              "[(0.26239099776769864, 'south'),\n",
              " (0.24641579894754115, 'chapman'),\n",
              " (0.24188906020452022, 'audition'),\n",
              " (0.2380223383939419, 'back'),\n",
              " (0.22599885977769105, 'gold'),\n",
              " (0.22286066131217422, 'devil'),\n",
              " (0.20762827996384037, 'begin'),\n",
              " (0.19571734144252548, 'drink'),\n",
              " (0.19559136446755437, 'pursuit'),\n",
              " (0.08861744069943828, 'kill')]"
            ]
          },
          "metadata": {
            "tags": []
          },
          "execution_count": 17
        }
      ]
    },
    {
      "cell_type": "code",
      "metadata": {
        "id": "65IX07ycGJRU"
      },
      "source": [
        "def getTopWords(type):\n",
        "  scores = []\n",
        "  samples = random.sample(all_adjectives,5000)\n",
        "  for word in samples:\n",
        "    converted = word.name().split('.')[0]\n",
        "    score = model_direct.predict_proba([converted])[0][0]\n",
        "    scores.append((score,converted))\n",
        "  scores.sort(reverse=True)\n",
        "  return scores"
      ],
      "execution_count": 18,
      "outputs": []
    },
    {
      "cell_type": "code",
      "metadata": {
        "colab": {
          "base_uri": "https://localhost:8080/"
        },
        "id": "YFHVHkojG9ao",
        "outputId": "60a04e0d-4fff-43d8-f89e-0e259d48c118"
      },
      "source": [
        "all_adjectives = [synset for synset in list(wordnet.all_synsets('a'))]\n",
        "all_adverbs = [synset for synset in list(wordnet.all_synsets('r'))]\n",
        "getTopWords(all_adverbs)[:10]"
      ],
      "execution_count": 19,
      "outputs": [
        {
          "output_type": "execute_result",
          "data": {
            "text/plain": [
              "[(0.8845325741140916, 'excellent'),\n",
              " (0.8766278379240549, 'enjoyable'),\n",
              " (0.8632093927143983, 'dull'),\n",
              " (0.8632093927143983, 'dull'),\n",
              " (0.8632093927143983, 'dull'),\n",
              " (0.8632093927143983, 'dull'),\n",
              " (0.860290471667273, 'less-traveled'),\n",
              " (0.860290471667273, 'less'),\n",
              " (0.8510509716345213, 'slow'),\n",
              " (0.8510509716345213, 'slow')]"
            ]
          },
          "metadata": {
            "tags": []
          },
          "execution_count": 19
        }
      ]
    },
    {
      "cell_type": "markdown",
      "metadata": {
        "id": "Xi7VFmG4yRNR"
      },
      "source": [
        "# NLP "
      ]
    },
    {
      "cell_type": "markdown",
      "metadata": {
        "id": "hRShMHN2zQYq"
      },
      "source": [
        "# Resources\n",
        "\n",
        "**Papers**\n",
        "\n",
        "https://ojs.aaai.org/index.php/AAAI/article/view/6433\n",
        "\n",
        "https://arxiv.org/abs/1809.04556\n",
        "https://papers.nips.cc/paper/2017/file/2d2c8394e31101a261abf1784302bf75-Paper.pdf\n",
        "\n",
        "**Dataset** \n",
        "\n",
        "http://www.cs.cornell.edu/people/pabo/movie-review-data/"
      ]
    },
    {
      "cell_type": "code",
      "metadata": {
        "id": "AgvmYj-HvZQX"
      },
      "source": [
        ""
      ],
      "execution_count": 19,
      "outputs": []
    }
  ]
}